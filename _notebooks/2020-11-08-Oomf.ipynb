{
 "cells": [
  {
   "source": [
    "# Obvious Open Mining Format (OOMF)\n",
    "> \"Work In Progress - Open Mining Format for fumans\"\n",
    "\n",
    "- toc: false\n",
    "- branch: master\n",
    "- badges: true\n",
    "- comments: true\n",
    "- categories: [Mining, OMF, Seequent, Open Mining Format, Geostatistics]\n",
    "- image: images/some_folder/your_image.png\n",
    "- hide: false\n",
    "- search_exclude: true"
   ],
   "cell_type": "markdown",
   "metadata": {}
  },
  {
   "source": [
    "The Open Mining Format (OMF) is a thoughtful proposal from the Global Mining Guidlines Group (GMG), suggesting a single data format for use in multiple mining software packages. This idea has been slow to gain support from some of the big players in this space. At this point the sole supporter of this concept (to my knowledge) is Seequent, the makers of Leapfrog3D software.  The use of multuiple commercial softwares or open source tools is becoming the norm for complex workflows focused on resource modeling. This necessiates the the ability to get data into and out-of commercial software packages. OMF is an attempt at this, unfortunately the oficial python tools for OMF are a bit clunky.\n",
    "\n",
    "\n",
    "[Obvious Open Mining Format aka OOMF](https://github.com/ericbdaniels/Oomf) is an attempt to make working with the Open Mining Format more accessible by a more pythonic API. This is a work in progress and it should be noted that GMG already has OMF 2.0 in the works which will likely come with some breaking changes. The aim of OOMF is based on my own experience where a common workflow involves extracting information from and OMF file and manipulating it using some GSLIB or Python based tools and saving the results back to an OMF file. All of this can be done using the [OMF package](https://omf.readthedocs.io/en/latest/index.html). A quick read of the docs may leave you wanting a simpler approach. "
   ],
   "cell_type": "markdown",
   "metadata": {}
  },
  {
   "source": [
    "## Aims of OOMF\n",
    "1. Provide a summary of OMF file contents.\n",
    "2. Allow user access data saved within the OMF file by name.\n",
    "3. Export to other common formats (CSV, VTK, GSLIB)\n",
    "4. Easily create OMF files from existing data in CSV, VTK or GLIB formats.\n",
    "5. Provide basic tools for visualization.\n",
    "\n",
    "> The examples below cover points 1 through 3. 4 and 5 need a bit more work when time allows.\n"
   ],
   "cell_type": "markdown",
   "metadata": {}
  },
  {
   "source": [
    "## Example usage\n",
    "To demonstrate the purpose and use of OMF - consider the basic workflow of loading and exisiting OMF file, summarizing the contents, and exporting to another file format.\n",
    "\n",
    "### Standard OMF approach"
   ],
   "cell_type": "markdown",
   "metadata": {}
  },
  {
   "cell_type": "code",
   "execution_count": 54,
   "metadata": {},
   "outputs": [
    {
     "output_type": "stream",
     "name": "stdout",
     "text": [
      "Element Name: collar, Origin: [0. 0. 0.], Size: 55\n\t Attribute Name: holeid\nElement Name: wolfpass_WP_assay, Origin: [0. 0. 0.], Size: 8583\n\t Attribute Name: CU_pct\n\t Attribute Name: DENSITY\n\t Attribute Name: AG_gpt\n\t Attribute Name: AU_gpt\n\t Attribute Name: RECOV\n\t Attribute Name: S_pct\n\t Attribute Name: MO_ppm\n\t Attribute Name: AS_ppm\n\t Attribute Name: Final_cut\n\t Attribute Name: holeid\nElement Name: Topography, Origin: [0. 0. 0.], Size: 65936\n\t Attribute Name: Elevation\nElement Name: Basement, Origin: [0. 0. 0.], Size: 87702\nElement Name: Early Diorite, Origin: [0. 0. 0.], Size: 79046\nElement Name: Intermineral diorite, Origin: [0. 0. 0.], Size: 112216\nElement Name: Dacite, Origin: [0. 0. 0.], Size: 39768\nElement Name: Cover, Origin: [0. 0. 0.], Size: 102904\nElement Name: Block Model, Origin: [444700. 492800.   2330.], Size: 1689600\n\t Attribute Name: CU_pct\n"
     ]
    }
   ],
   "source": [
    "import omf\n",
    "import pandas as pd\n",
    "\n",
    "# First read the file \n",
    "reader = omf.OMFReader('./data/test_file.omf')\n",
    "project = reader.get_project()\n",
    "\n",
    "# Now see whats in the file - for each element print the name, some basic info and the names of all associated data attributes\n",
    "for e in project.elements:\n",
    "    print(f'Element Name: {e.name}, Origin: {e.geometry.origin}, Size: {e.geometry.num_cells}')\n",
    "    for d in e.data:\n",
    "        print(f'\\t Attribute Name: {d.name}')"
   ]
  },
  {
   "cell_type": "code",
   "execution_count": 57,
   "metadata": {},
   "outputs": [
    {
     "output_type": "execute_result",
     "data": {
      "text/plain": [
       "   CU_pct  DENSITY  AG_gpt  AU_gpt  RECOV  S_pct  MO_ppm  AS_ppm  Final_cut  \\\n",
       "0    0.79      NaN    6.35    1.75    0.5  -0.01    10.0    26.3          2   \n",
       "1    0.83      NaN    5.20    1.73    1.3  -0.01    12.2    31.0          2   \n",
       "2    0.84      NaN    5.75    6.00    1.8  -0.01    24.8    32.5          2   \n",
       "3    0.83     2.32    2.85    2.56    1.8   0.20    15.7    13.9          2   \n",
       "4    0.97     2.98    2.90    1.53    2.0   0.50    14.8    15.5          2   \n",
       "\n",
       "   holeid  \n",
       "0       0  \n",
       "1       0  \n",
       "2       0  \n",
       "3       0  \n",
       "4       0  "
      ],
      "text/html": "<div>\n<style scoped>\n    .dataframe tbody tr th:only-of-type {\n        vertical-align: middle;\n    }\n\n    .dataframe tbody tr th {\n        vertical-align: top;\n    }\n\n    .dataframe thead th {\n        text-align: right;\n    }\n</style>\n<table border=\"1\" class=\"dataframe\">\n  <thead>\n    <tr style=\"text-align: right;\">\n      <th></th>\n      <th>CU_pct</th>\n      <th>DENSITY</th>\n      <th>AG_gpt</th>\n      <th>AU_gpt</th>\n      <th>RECOV</th>\n      <th>S_pct</th>\n      <th>MO_ppm</th>\n      <th>AS_ppm</th>\n      <th>Final_cut</th>\n      <th>holeid</th>\n    </tr>\n  </thead>\n  <tbody>\n    <tr>\n      <th>0</th>\n      <td>0.79</td>\n      <td>NaN</td>\n      <td>6.35</td>\n      <td>1.75</td>\n      <td>0.5</td>\n      <td>-0.01</td>\n      <td>10.0</td>\n      <td>26.3</td>\n      <td>2</td>\n      <td>0</td>\n    </tr>\n    <tr>\n      <th>1</th>\n      <td>0.83</td>\n      <td>NaN</td>\n      <td>5.20</td>\n      <td>1.73</td>\n      <td>1.3</td>\n      <td>-0.01</td>\n      <td>12.2</td>\n      <td>31.0</td>\n      <td>2</td>\n      <td>0</td>\n    </tr>\n    <tr>\n      <th>2</th>\n      <td>0.84</td>\n      <td>NaN</td>\n      <td>5.75</td>\n      <td>6.00</td>\n      <td>1.8</td>\n      <td>-0.01</td>\n      <td>24.8</td>\n      <td>32.5</td>\n      <td>2</td>\n      <td>0</td>\n    </tr>\n    <tr>\n      <th>3</th>\n      <td>0.83</td>\n      <td>2.32</td>\n      <td>2.85</td>\n      <td>2.56</td>\n      <td>1.8</td>\n      <td>0.20</td>\n      <td>15.7</td>\n      <td>13.9</td>\n      <td>2</td>\n      <td>0</td>\n    </tr>\n    <tr>\n      <th>4</th>\n      <td>0.97</td>\n      <td>2.98</td>\n      <td>2.90</td>\n      <td>1.53</td>\n      <td>2.0</td>\n      <td>0.50</td>\n      <td>14.8</td>\n      <td>15.5</td>\n      <td>2</td>\n      <td>0</td>\n    </tr>\n  </tbody>\n</table>\n</div>"
     },
     "metadata": {},
     "execution_count": 57
    }
   ],
   "source": [
    "# Now access the attributes on the wolfpass_WP_assay element\n",
    "e = project.elements[1]\n",
    "\n",
    "#now get the data itself\n",
    "assay_df = pd.DataFrame({d.name:d.array[:] for d in e.data})\n",
    "\n",
    "assay_df.head()"
   ]
  },
  {
   "source": [
    "> The OMF package works just fine, open the file get the data etc - no problem. Its just not inutitive because the user must access each element and attribute by its index in as list (or by its UUID which is even less user friendly in my opinion)."
   ],
   "cell_type": "markdown",
   "metadata": {}
  },
  {
   "source": [
    "### OOMF approach"
   ],
   "cell_type": "markdown",
   "metadata": {}
  },
  {
   "cell_type": "code",
   "execution_count": 2,
   "metadata": {},
   "outputs": [
    {
     "output_type": "display_data",
     "data": {
      "text/plain": "<rich.jupyter.JupyterRenderable at 0x21be56d5790>",
      "text/html": "<pre style=\"white-space:pre;overflow-x:auto;line-height:normal;font-family:Menlo,'DejaVu Sans Mono',consolas,'Courier New',monospace\"><span style=\"color: #000080\">╭────────────────────────────────── OMFProject: Wolfpass ───────────────────────────────────╮</span>\n<span style=\"color: #000080\">│</span>        <span style=\"color: #808000; font-style: italic\">author</span> = <span style=\"color: #008000\">''</span>                                                                        <span style=\"color: #000080\">│</span>\n<span style=\"color: #000080\">│</span>          <span style=\"color: #808000; font-style: italic\">date</span> = <span style=\"color: #800080; font-style: italic\">None</span>                                                                      <span style=\"color: #000080\">│</span>\n<span style=\"color: #000080\">│</span>  <span style=\"color: #808000; font-style: italic\">date_created</span> = datetime.datetime<span style=\"font-weight: bold\">(</span><span style=\"color: #000080; font-weight: bold\">2017</span>, <span style=\"color: #000080; font-weight: bold\">2</span>, <span style=\"color: #000080; font-weight: bold\">27</span>, <span style=\"color: #000080; font-weight: bold\">0</span>, <span style=\"color: #000080; font-weight: bold\">21</span>, <span style=\"color: #000080; font-weight: bold\">32</span><span style=\"font-weight: bold\">)</span>                                 <span style=\"color: #000080\">│</span>\n<span style=\"color: #000080\">│</span> <span style=\"color: #808000; font-style: italic\">date_modified</span> = datetime.datetime<span style=\"font-weight: bold\">(</span><span style=\"color: #000080; font-weight: bold\">2017</span>, <span style=\"color: #000080; font-weight: bold\">8</span>, <span style=\"color: #000080; font-weight: bold\">29</span>, <span style=\"color: #000080; font-weight: bold\">18</span>, <span style=\"color: #000080; font-weight: bold\">25</span>, <span style=\"color: #000080; font-weight: bold\">47</span><span style=\"font-weight: bold\">)</span>                                <span style=\"color: #000080\">│</span>\n<span style=\"color: #000080\">│</span>   <span style=\"color: #808000; font-style: italic\">description</span> = <span style=\"color: #008000\">'OMF Wolfpass model'</span>                                                      <span style=\"color: #000080\">│</span>\n<span style=\"color: #000080\">│</span>      <span style=\"color: #808000; font-style: italic\">elements</span> = <span style=\"font-weight: bold\">&lt;</span><span style=\"color: #ff00ff; font-weight: bold\">DotDict</span><span style=\"font-weight: bold\">&gt;</span>:                                                                <span style=\"color: #000080\">│</span>\n<span style=\"color: #000080\">│</span>                         collar:<span style=\"font-weight: bold\">&lt;</span><span style=\"color: #ff00ff; font-weight: bold\">OOMFElement</span><span style=\"font-weight: bold\">&gt;</span> <span style=\"font-weight: bold\">(</span>Name: collar, Type: point<span style=\"font-weight: bold\">)</span>,                 <span style=\"color: #000080\">│</span>\n<span style=\"color: #000080\">│</span>                         wolfpass_WP_assay:<span style=\"font-weight: bold\">&lt;</span><span style=\"color: #ff00ff; font-weight: bold\">OOMFElement</span><span style=\"font-weight: bold\">&gt;</span> <span style=\"font-weight: bold\">(</span>Name: wolfpass_WP_assay, Type:   <span style=\"color: #000080\">│</span>\n<span style=\"color: #000080\">│</span>                 line<span style=\"font-weight: bold\">)</span>,                                                                    <span style=\"color: #000080\">│</span>\n<span style=\"color: #000080\">│</span>                         Topography:<span style=\"font-weight: bold\">&lt;</span><span style=\"color: #ff00ff; font-weight: bold\">OOMFElement</span><span style=\"font-weight: bold\">&gt;</span> <span style=\"font-weight: bold\">(</span>Name: Topography, Type: surface<span style=\"font-weight: bold\">)</span>,       <span style=\"color: #000080\">│</span>\n<span style=\"color: #000080\">│</span>                         Basement:<span style=\"font-weight: bold\">&lt;</span><span style=\"color: #ff00ff; font-weight: bold\">OOMFElement</span><span style=\"font-weight: bold\">&gt;</span> <span style=\"font-weight: bold\">(</span>Name: Basement, Type: surface<span style=\"font-weight: bold\">)</span>,           <span style=\"color: #000080\">│</span>\n<span style=\"color: #000080\">│</span>                         Early_Diorite:<span style=\"font-weight: bold\">&lt;</span><span style=\"color: #ff00ff; font-weight: bold\">OOMFElement</span><span style=\"font-weight: bold\">&gt;</span> <span style=\"font-weight: bold\">(</span>Name: Early Diorite, Type: surface<span style=\"font-weight: bold\">)</span>, <span style=\"color: #000080\">│</span>\n<span style=\"color: #000080\">│</span>                         Intermineral_diorite:<span style=\"font-weight: bold\">&lt;</span><span style=\"color: #ff00ff; font-weight: bold\">OOMFElement</span><span style=\"font-weight: bold\">&gt;</span> <span style=\"font-weight: bold\">(</span>Name: Intermineral diorite,   <span style=\"color: #000080\">│</span>\n<span style=\"color: #000080\">│</span>                 Type: surface<span style=\"font-weight: bold\">)</span>,                                                           <span style=\"color: #000080\">│</span>\n<span style=\"color: #000080\">│</span>                         Dacite:<span style=\"font-weight: bold\">&lt;</span><span style=\"color: #ff00ff; font-weight: bold\">OOMFElement</span><span style=\"font-weight: bold\">&gt;</span> <span style=\"font-weight: bold\">(</span>Name: Dacite, Type: surface<span style=\"font-weight: bold\">)</span>,               <span style=\"color: #000080\">│</span>\n<span style=\"color: #000080\">│</span>                         Cover:<span style=\"font-weight: bold\">&lt;</span><span style=\"color: #ff00ff; font-weight: bold\">OOMFElement</span><span style=\"font-weight: bold\">&gt;</span> <span style=\"font-weight: bold\">(</span>Name: Cover, Type: surface<span style=\"font-weight: bold\">)</span>,                 <span style=\"color: #000080\">│</span>\n<span style=\"color: #000080\">│</span>                         Block_Model:<span style=\"font-weight: bold\">&lt;</span><span style=\"color: #ff00ff; font-weight: bold\">OOMFElement</span><span style=\"font-weight: bold\">&gt;</span> <span style=\"font-weight: bold\">(</span>Name: Block Model, Type: volume<span style=\"font-weight: bold\">)</span>,      <span style=\"color: #000080\">│</span>\n<span style=\"color: #000080\">│</span>          <span style=\"color: #808000; font-style: italic\">name</span> = <span style=\"color: #008000\">'Wolfpass'</span>                                                                <span style=\"color: #000080\">│</span>\n<span style=\"color: #000080\">│</span>        <span style=\"color: #808000; font-style: italic\">origin</span> = Vector3<span style=\"font-weight: bold\">([</span><span style=\"color: #000080; font-weight: bold\">0</span>., <span style=\"color: #000080; font-weight: bold\">0</span>., <span style=\"color: #000080; font-weight: bold\">0</span>.<span style=\"font-weight: bold\">])</span>                                                     <span style=\"color: #000080\">│</span>\n<span style=\"color: #000080\">│</span>      <span style=\"color: #808000; font-style: italic\">revision</span> = <span style=\"color: #008000\">''</span>                                                                        <span style=\"color: #000080\">│</span>\n<span style=\"color: #000080\">│</span>           <span style=\"color: #808000; font-style: italic\">uid</span> = UUID<span style=\"font-weight: bold\">(</span><span style=\"color: #008000\">'b3a1eb11-d893-4e15-9b4d-6b7fdd4b35da'</span><span style=\"font-weight: bold\">)</span>                              <span style=\"color: #000080\">│</span>\n<span style=\"color: #000080\">│</span>         <span style=\"color: #808000; font-style: italic\">units</span> = <span style=\"color: #008000\">''</span>                                                                        <span style=\"color: #000080\">│</span>\n<span style=\"color: #000080\">╰───────────────────────────────────────────────────────────────────────────────────────────╯</span>\n</pre>\n"
     },
     "metadata": {}
    }
   ],
   "source": [
    "import oomf \n",
    "\n",
    "# read the file and summarize contents\n",
    "prj = oomf.elements.Project(\"./data/test_file.omf\")\n",
    "prj.summarize()"
   ]
  },
  {
   "cell_type": "code",
   "execution_count": 6,
   "metadata": {},
   "outputs": [
    {
     "output_type": "execute_result",
     "data": {
      "text/plain": [
       "               x              y            z  CU_pct  DENSITY  AG_gpt  AU_gpt  \\\n",
       "0  445198.219000  494110.594000  3057.757537    0.79      NaN    6.35    1.75   \n",
       "1  445199.504526  494110.582781  3056.225448    0.83      NaN    5.20    1.73   \n",
       "2  445200.790053  494110.571563  3054.693359    0.84      NaN    5.75    6.00   \n",
       "3  445202.075579  494110.560344  3053.161270    0.83     2.32    2.85    2.56   \n",
       "4  445203.361105  494110.549126  3051.629181    0.97     2.98    2.90    1.53   \n",
       "\n",
       "   RECOV  S_pct  MO_ppm  AS_ppm  Final_cut  holeid  \n",
       "0    0.5  -0.01    10.0    26.3          2       0  \n",
       "1    1.3  -0.01    12.2    31.0          2       0  \n",
       "2    1.8  -0.01    24.8    32.5          2       0  \n",
       "3    1.8   0.20    15.7    13.9          2       0  \n",
       "4    2.0   0.50    14.8    15.5          2       0  "
      ],
      "text/html": "<div>\n<style scoped>\n    .dataframe tbody tr th:only-of-type {\n        vertical-align: middle;\n    }\n\n    .dataframe tbody tr th {\n        vertical-align: top;\n    }\n\n    .dataframe thead th {\n        text-align: right;\n    }\n</style>\n<table border=\"1\" class=\"dataframe\">\n  <thead>\n    <tr style=\"text-align: right;\">\n      <th></th>\n      <th>x</th>\n      <th>y</th>\n      <th>z</th>\n      <th>CU_pct</th>\n      <th>DENSITY</th>\n      <th>AG_gpt</th>\n      <th>AU_gpt</th>\n      <th>RECOV</th>\n      <th>S_pct</th>\n      <th>MO_ppm</th>\n      <th>AS_ppm</th>\n      <th>Final_cut</th>\n      <th>holeid</th>\n    </tr>\n  </thead>\n  <tbody>\n    <tr>\n      <th>0</th>\n      <td>445198.219000</td>\n      <td>494110.594000</td>\n      <td>3057.757537</td>\n      <td>0.79</td>\n      <td>NaN</td>\n      <td>6.35</td>\n      <td>1.75</td>\n      <td>0.5</td>\n      <td>-0.01</td>\n      <td>10.0</td>\n      <td>26.3</td>\n      <td>2</td>\n      <td>0</td>\n    </tr>\n    <tr>\n      <th>1</th>\n      <td>445199.504526</td>\n      <td>494110.582781</td>\n      <td>3056.225448</td>\n      <td>0.83</td>\n      <td>NaN</td>\n      <td>5.20</td>\n      <td>1.73</td>\n      <td>1.3</td>\n      <td>-0.01</td>\n      <td>12.2</td>\n      <td>31.0</td>\n      <td>2</td>\n      <td>0</td>\n    </tr>\n    <tr>\n      <th>2</th>\n      <td>445200.790053</td>\n      <td>494110.571563</td>\n      <td>3054.693359</td>\n      <td>0.84</td>\n      <td>NaN</td>\n      <td>5.75</td>\n      <td>6.00</td>\n      <td>1.8</td>\n      <td>-0.01</td>\n      <td>24.8</td>\n      <td>32.5</td>\n      <td>2</td>\n      <td>0</td>\n    </tr>\n    <tr>\n      <th>3</th>\n      <td>445202.075579</td>\n      <td>494110.560344</td>\n      <td>3053.161270</td>\n      <td>0.83</td>\n      <td>2.32</td>\n      <td>2.85</td>\n      <td>2.56</td>\n      <td>1.8</td>\n      <td>0.20</td>\n      <td>15.7</td>\n      <td>13.9</td>\n      <td>2</td>\n      <td>0</td>\n    </tr>\n    <tr>\n      <th>4</th>\n      <td>445203.361105</td>\n      <td>494110.549126</td>\n      <td>3051.629181</td>\n      <td>0.97</td>\n      <td>2.98</td>\n      <td>2.90</td>\n      <td>1.53</td>\n      <td>2.0</td>\n      <td>0.50</td>\n      <td>14.8</td>\n      <td>15.5</td>\n      <td>2</td>\n      <td>0</td>\n    </tr>\n  </tbody>\n</table>\n</div>"
     },
     "metadata": {},
     "execution_count": 6
    }
   ],
   "source": [
    "# now access the assay data\n",
    "assay_df = prj.elements.wolfpass_WP_assay.to_pandas()\n",
    "assay_df.head()"
   ]
  },
  {
   "source": [
    "* The nice summary above comes from `rich` which is an fantastic python package which allows for adding colored text, tables, summaries to any text output.\n",
    "* Notice that any element is accessible by name, and any attribute associated with that object is also accessed by name: `prj.elements.wolfpass_WP_assay.CU_pct`, and to get the data: `prj.elements.wolfpass_WP_assay.CU_pct[:]`\n",
    "* additionally, the coordinates are added to the dataframe by default. If using the stand OMF package coordinates exist separate from attributes.\n"
   ],
   "cell_type": "markdown",
   "metadata": {}
  },
  {
   "source": [],
   "cell_type": "markdown",
   "metadata": {}
  },
  {
   "source": [
    "### Supported File Formats\n",
    "\n",
    "At this point export functions for CSV, VTK and GSLIB file formats are provided in addition to the pandas integration."
   ],
   "cell_type": "markdown",
   "metadata": {}
  },
  {
   "cell_type": "code",
   "execution_count": 8,
   "metadata": {},
   "outputs": [],
   "source": [
    "# to gslib\n",
    "prj.elements.wolfpass_WP_assay.to_gslib(\"./data/gslib_export.dat\")\n",
    "\n",
    "# to csv \n",
    "prj.elements.wolfpass_WP_assay.to_csv(\"./data/csv_export.csv\")\n",
    "\n",
    "# to vtk \n",
    "prj.elements.wolfpass_WP_assay.to_vtk(\"./data/vtk_export.vtk\")"
   ]
  },
  {
   "source": [
    "> NOTE: The `to_gslib` and `to_csv` exports rely on pandas. This can be problematic for large datasets where loading the entire dataset into a pandas dataframe can either be particularly slow or lead to memory issues."
   ],
   "cell_type": "markdown",
   "metadata": {}
  },
  {
   "source": [],
   "cell_type": "markdown",
   "metadata": {}
  },
  {
   "source": [
    "## Conclusion\n",
    "\n",
    "If you use OMF files as part of your resource modeling workflow, hopefully this little tool will make life a bit easier. Its not perfect, there are tests to add, features to include, code to refactor but for now its what I had time for. In the future, I'd like to include an easy way to convert a group of GSLIB files or CSVs and create and OMF file. Additionally a 3D viewer would be nice. In the meantime, I'd welcome any contributions, comments etc."
   ],
   "cell_type": "markdown",
   "metadata": {}
  }
 ],
 "metadata": {
  "kernelspec": {
   "name": "Python 3.8.6 64-bit ('omf': conda)",
   "display_name": "Python 3.8.6 64-bit ('omf': conda)",
   "metadata": {
    "interpreter": {
     "hash": "5022845a494e4dc243c721028b0e5d28c11a2c83f855986765351d95f2279b35"
    }
   }
  },
  "language_info": {
   "codemirror_mode": {
    "name": "ipython",
    "version": 3
   },
   "file_extension": ".py",
   "mimetype": "text/x-python",
   "name": "python",
   "nbconvert_exporter": "python",
   "pygments_lexer": "ipython3",
   "version": "3.8.6-final"
  }
 },
 "nbformat": 4,
 "nbformat_minor": 4
}