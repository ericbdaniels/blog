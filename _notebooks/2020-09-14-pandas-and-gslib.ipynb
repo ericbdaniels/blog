{
 "metadata": {
  "language_info": {
   "codemirror_mode": {
    "name": "ipython",
    "version": 3
   },
   "file_extension": ".py",
   "mimetype": "text/x-python",
   "name": "python",
   "nbconvert_exporter": "python",
   "pygments_lexer": "ipython3",
   "version": "3.6.10-final"
  },
  "orig_nbformat": 2,
  "kernelspec": {
   "name": "python361064bitpygeostatdevconda214fe2f8e703488293b6f095560eab08",
   "display_name": "Python 3.6.10 64-bit ('pygeostat_dev': conda)"
  }
 },
 "nbformat": 4,
 "nbformat_minor": 2,
 "cells": [
  {
   "source": [
    "# Importing and Exporting GSLIB (GEO-EAS) Files\n",
    "- categories: [Jupyter, GSLIB, Pandas, Geostatistics, Python]\n",
    "- comments: true"
   ],
   "cell_type": "markdown",
   "metadata": {}
  },
  {
   "source": [
    "Though a bit dated GSLIB remains the standard in many Geostatistical workflows, unfortunately the GSLIB data format can be a bit of hassle.\n",
    "The standard GSLIB aka GEO-EAS data format as described on [gslib.com](http://www.gslib.com/gslib_help/format.html):\n",
    "\n",
    "> * The first line in the file is taken as a title and is possibly transferred to output files.\n",
    "> * The second line should be a numerical value specifying the number of numerical variables nvar in the data file.\n",
    "> * The next nvar lines contain character identification labels and additional text (optional) that describe each variable.\n",
    "> * The following lines, from nvar+3 until the end of the file, are considered as data points and must have nvar numerical values per line. Missing values are typically considered as large negative or positive numbers (e.g., less than -1.0e21 or greater than 1.0e21). The number of data will be the number of lines in the file minus nvar+2 minus the number of missing values. The programs read numerical values and not alphanumeric characters; alphanumeric variables may be transformed to integers or the source code modified. "
   ],
   "cell_type": "markdown",
   "metadata": {}
  },
  {
   "source": [
    "\n",
    "\n",
    "\n",
    "\n",
    "The header is informative, but a little bit of a hassle when importing into a strictly tabular format like Pandas.\n",
    "It should be noted that line #2 in the header can often contain grid definition information in addition to ncols, and in the case of multiple simulations nsim is commonly given after the grid definition (this is overlooked in the read/write functions to follow).\n",
    "\n",
    "The goal here is just to provide a couple simple functions to save a little time for anyone who needs to do this.\n",
    "\n",
    "## Reading GSLIB data\n",
    "\n",
    "Importing GSLIB data really happens in 2 steps. \n",
    "    1. read the header\n",
    "    2. read all the data to a dataframe.\n",
    "\n",
    "> side note: I've found `skip_rows` and `delim_whitespace` are useful when it comes to reading ASCII data from other scientific software (MODFLOW, PEST, TOUGH2 etc.)"
   ],
   "cell_type": "markdown",
   "metadata": {}
  },
  {
   "cell_type": "code",
   "execution_count": 7,
   "metadata": {},
   "outputs": [],
   "source": [
    "#hide\n",
    "import pandas as pd"
   ]
  },
  {
   "cell_type": "code",
   "execution_count": 2,
   "metadata": {},
   "outputs": [],
   "source": [
    "def read_gslib(filename:str):\n",
    "    with open(filename, \"r\") as f:\n",
    "        lines = f.readlines()\n",
    "        ncols = int(lines[1].split()[0])\n",
    "        col_names = [lines[i+2].strip() for i in range(ncols)]\n",
    "    df = pd.read_csv(filename, skiprows=ncols+2, delim_whitespace=True, names=col_names)\n",
    "    return df"
   ]
  },
  {
   "cell_type": "code",
   "execution_count": 3,
   "metadata": {},
   "outputs": [
    {
     "output_type": "execute_result",
     "data": {
      "text/plain": "       x      y      z    var\n0  0.723  0.564  0.785  2.853\n1  0.915  0.317  0.357  0.749\n2  0.346  0.484  0.690  0.786\n3  0.591  0.150  0.669  0.290\n4  0.157  0.332  0.006  1.777",
      "text/html": "<div>\n<style scoped>\n    .dataframe tbody tr th:only-of-type {\n        vertical-align: middle;\n    }\n\n    .dataframe tbody tr th {\n        vertical-align: top;\n    }\n\n    .dataframe thead th {\n        text-align: right;\n    }\n</style>\n<table border=\"1\" class=\"dataframe\">\n  <thead>\n    <tr style=\"text-align: right;\">\n      <th></th>\n      <th>x</th>\n      <th>y</th>\n      <th>z</th>\n      <th>var</th>\n    </tr>\n  </thead>\n  <tbody>\n    <tr>\n      <th>0</th>\n      <td>0.723</td>\n      <td>0.564</td>\n      <td>0.785</td>\n      <td>2.853</td>\n    </tr>\n    <tr>\n      <th>1</th>\n      <td>0.915</td>\n      <td>0.317</td>\n      <td>0.357</td>\n      <td>0.749</td>\n    </tr>\n    <tr>\n      <th>2</th>\n      <td>0.346</td>\n      <td>0.484</td>\n      <td>0.690</td>\n      <td>0.786</td>\n    </tr>\n    <tr>\n      <th>3</th>\n      <td>0.591</td>\n      <td>0.150</td>\n      <td>0.669</td>\n      <td>0.290</td>\n    </tr>\n    <tr>\n      <th>4</th>\n      <td>0.157</td>\n      <td>0.332</td>\n      <td>0.006</td>\n      <td>1.777</td>\n    </tr>\n  </tbody>\n</table>\n</div>"
     },
     "metadata": {},
     "execution_count": 3
    }
   ],
   "source": [
    "df = read_gslib(filename=\"data/example.dat\")\n",
    "df.head()"
   ]
  },
  {
   "source": [
    "Now go about your business analyzing data, making plots and doing all the other things python does well until you need re-export to GSLIB to run specific Geostatistical algorithm."
   ],
   "cell_type": "markdown",
   "metadata": {}
  },
  {
   "source": [
    "## Writing a Pandas DataFrame to GSLIB Format\n",
    "\n",
    "As with reading in the data, I'm sure there are a number of ways this can be done. Below is one rather simple approach where I write the header than iterate over each row as a tuple. \n",
    "\n",
    "> If speed is a consideration when iterating over a pandas DataFrame use `.itertuples` its noticeably faster than `.iterrows`."
   ],
   "cell_type": "markdown",
   "metadata": {}
  },
  {
   "cell_type": "code",
   "execution_count": 4,
   "metadata": {},
   "outputs": [],
   "source": [
    "def write_gslib(df:pd.DataFrame, filename:str):\n",
    "    with open(filename, \"w\") as f:\n",
    "        f.write(\"GSLIB Example Data\\n\")\n",
    "        f.write(f\"{len(df.columns)}\\n\")\n",
    "        f.write(\"\\n\".join(df.columns)+\"\\n\")\n",
    "        for row in df.itertuples():\n",
    "            row_data = \"\\t\".join([f\"{i:.3f}\" for i in row[1:]])\n",
    "            f.write(f\"{row_data}\\n\")"
   ]
  },
  {
   "cell_type": "code",
   "execution_count": 5,
   "metadata": {},
   "outputs": [],
   "source": [
    "write_gslib(df, \"data/exported_data.dat\")"
   ]
  },
  {
   "source": [
    "Now, just have a quick look at the file to be sure its correct:"
   ],
   "cell_type": "markdown",
   "metadata": {}
  },
  {
   "cell_type": "code",
   "execution_count": 6,
   "metadata": {
    "tags": []
   },
   "outputs": [
    {
     "output_type": "stream",
     "name": "stdout",
     "text": "GSLIB Example Data\n4\nx\ny\nz\nvar\n0.723\t0.564\t0.785\t2.853\n0.915\t0.317\t0.357\t0.749\n0.346\t0.484\t0.690\t0.786\n0.591\t0.150\t0.669\t0.290\n"
    }
   ],
   "source": [
    "with open(\"data/exported_data.dat\",\"r\") as f:\n",
    "    for i in range(10):\n",
    "        print(f.readline().strip())"
   ]
  },
  {
   "source": [
    "Really the whole purpose here is to have these functions readily available to copy/paste when you need them."
   ],
   "cell_type": "markdown",
   "metadata": {}
  }
 ]
}